{
 "cells": [
  {
   "cell_type": "code",
   "execution_count": 1,
   "id": "86693f4a",
   "metadata": {},
   "outputs": [
    {
     "name": "stdout",
     "output_type": "stream",
     "text": [
      "Requirement already satisfied: pmdarima in c:\\users\\administrator\\anaconda3\\lib\\site-packages (1.8.2)\n",
      "Requirement already satisfied: numpy~=1.19.0 in c:\\users\\administrator\\anaconda3\\lib\\site-packages (from pmdarima) (1.19.5)\n",
      "Requirement already satisfied: setuptools!=50.0.0,>=38.6.0 in c:\\users\\administrator\\anaconda3\\lib\\site-packages (from pmdarima) (52.0.0.post20210125)\n",
      "Requirement already satisfied: scipy>=1.3.2 in c:\\users\\administrator\\anaconda3\\lib\\site-packages (from pmdarima) (1.6.2)\n",
      "Requirement already satisfied: statsmodels!=0.12.0,>=0.11 in c:\\users\\administrator\\anaconda3\\lib\\site-packages (from pmdarima) (0.12.2)\n",
      "Requirement already satisfied: Cython!=0.29.18,>=0.29 in c:\\users\\administrator\\anaconda3\\lib\\site-packages (from pmdarima) (0.29.23)\n",
      "Requirement already satisfied: scikit-learn>=0.22 in c:\\users\\administrator\\anaconda3\\lib\\site-packages (from pmdarima) (0.24.1)\n",
      "Requirement already satisfied: urllib3 in c:\\users\\administrator\\anaconda3\\lib\\site-packages (from pmdarima) (1.26.4)\n",
      "Requirement already satisfied: pandas>=0.19 in c:\\users\\administrator\\anaconda3\\lib\\site-packages (from pmdarima) (1.2.4)\n",
      "Requirement already satisfied: joblib>=0.11 in c:\\users\\administrator\\anaconda3\\lib\\site-packages (from pmdarima) (1.0.1)\n",
      "Requirement already satisfied: pytz>=2017.3 in c:\\users\\administrator\\anaconda3\\lib\\site-packages (from pandas>=0.19->pmdarima) (2021.1)\n",
      "Requirement already satisfied: python-dateutil>=2.7.3 in c:\\users\\administrator\\anaconda3\\lib\\site-packages (from pandas>=0.19->pmdarima) (2.8.1)\n",
      "Requirement already satisfied: six>=1.5 in c:\\users\\administrator\\anaconda3\\lib\\site-packages (from python-dateutil>=2.7.3->pandas>=0.19->pmdarima) (1.15.0)\n",
      "Requirement already satisfied: threadpoolctl>=2.0.0 in c:\\users\\administrator\\anaconda3\\lib\\site-packages (from scikit-learn>=0.22->pmdarima) (2.1.0)\n",
      "Requirement already satisfied: patsy>=0.5 in c:\\users\\administrator\\anaconda3\\lib\\site-packages (from statsmodels!=0.12.0,>=0.11->pmdarima) (0.5.1)\n"
     ]
    }
   ],
   "source": [
    "from statsmodels.tsa.arima_model import ARIMA\n",
    "from statsmodels.graphics.tsaplots import plot_acf\n",
    "from statsmodels.graphics.tsaplots import plot_pacf\n",
    "from statsmodels.tsa.stattools import adfuller\n",
    "import matplotlib.pyplot as plt\n",
    "import seaborn as sns\n",
    "import pandas as pd\n",
    "!pip install pmdarima\n",
    "sns.set()"
   ]
  },
  {
   "cell_type": "code",
   "execution_count": 2,
   "id": "3833c1d4",
   "metadata": {},
   "outputs": [],
   "source": [
    "url = \"E:/Udemy Courses/Time Series Analysis in Python/Section 3/us.csv\"\n",
    "df = pd.read_csv(url)"
   ]
  },
  {
   "cell_type": "code",
   "execution_count": 3,
   "id": "fca288c4",
   "metadata": {},
   "outputs": [
    {
     "data": {
      "text/html": [
       "<div>\n",
       "<style scoped>\n",
       "    .dataframe tbody tr th:only-of-type {\n",
       "        vertical-align: middle;\n",
       "    }\n",
       "\n",
       "    .dataframe tbody tr th {\n",
       "        vertical-align: top;\n",
       "    }\n",
       "\n",
       "    .dataframe thead th {\n",
       "        text-align: right;\n",
       "    }\n",
       "</style>\n",
       "<table border=\"1\" class=\"dataframe\">\n",
       "  <thead>\n",
       "    <tr style=\"text-align: right;\">\n",
       "      <th></th>\n",
       "      <th>date</th>\n",
       "      <th>cases</th>\n",
       "      <th>deaths</th>\n",
       "    </tr>\n",
       "  </thead>\n",
       "  <tbody>\n",
       "    <tr>\n",
       "      <th>0</th>\n",
       "      <td>2020-01-21</td>\n",
       "      <td>1</td>\n",
       "      <td>0</td>\n",
       "    </tr>\n",
       "    <tr>\n",
       "      <th>1</th>\n",
       "      <td>2020-01-22</td>\n",
       "      <td>1</td>\n",
       "      <td>0</td>\n",
       "    </tr>\n",
       "    <tr>\n",
       "      <th>2</th>\n",
       "      <td>2020-01-23</td>\n",
       "      <td>1</td>\n",
       "      <td>0</td>\n",
       "    </tr>\n",
       "    <tr>\n",
       "      <th>3</th>\n",
       "      <td>2020-01-24</td>\n",
       "      <td>2</td>\n",
       "      <td>0</td>\n",
       "    </tr>\n",
       "    <tr>\n",
       "      <th>4</th>\n",
       "      <td>2020-01-25</td>\n",
       "      <td>3</td>\n",
       "      <td>0</td>\n",
       "    </tr>\n",
       "  </tbody>\n",
       "</table>\n",
       "</div>"
      ],
      "text/plain": [
       "         date  cases  deaths\n",
       "0  2020-01-21      1       0\n",
       "1  2020-01-22      1       0\n",
       "2  2020-01-23      1       0\n",
       "3  2020-01-24      2       0\n",
       "4  2020-01-25      3       0"
      ]
     },
     "execution_count": 3,
     "metadata": {},
     "output_type": "execute_result"
    }
   ],
   "source": [
    "df.head()"
   ]
  },
  {
   "cell_type": "code",
   "execution_count": 4,
   "id": "582725f7",
   "metadata": {},
   "outputs": [
    {
     "data": {
      "text/plain": [
       "Index(['date', 'cases', 'deaths'], dtype='object')"
      ]
     },
     "execution_count": 4,
     "metadata": {},
     "output_type": "execute_result"
    }
   ],
   "source": [
    "df.columns"
   ]
  },
  {
   "cell_type": "code",
   "execution_count": 5,
   "id": "0729cf86",
   "metadata": {},
   "outputs": [],
   "source": [
    "df_mean = df.asfreq(freq=\"W\", method='bfill')"
   ]
  },
  {
   "cell_type": "code",
   "execution_count": 6,
   "id": "80e41ed6",
   "metadata": {},
   "outputs": [],
   "source": [
    "df.head()\n",
    "df.set_index(\"date\", inplace=True)\n",
    "del df['deaths']"
   ]
  },
  {
   "cell_type": "code",
   "execution_count": 7,
   "id": "7b671036",
   "metadata": {},
   "outputs": [],
   "source": [
    "timeseries = df_mean[\"cases\"]"
   ]
  },
  {
   "cell_type": "code",
   "execution_count": 8,
   "id": "6ea8faa5",
   "metadata": {},
   "outputs": [
    {
     "name": "stdout",
     "output_type": "stream",
     "text": [
      "p-value: 0.7652088763526638\n"
     ]
    }
   ],
   "source": [
    "print(\"p-value:\", adfuller(df.dropna())[1])"
   ]
  },
  {
   "cell_type": "code",
   "execution_count": 9,
   "id": "e4bd6ecb",
   "metadata": {},
   "outputs": [],
   "source": [
    "from pmdarima.arima import auto_arima"
   ]
  },
  {
   "cell_type": "code",
   "execution_count": 10,
   "id": "ecab595c",
   "metadata": {},
   "outputs": [],
   "source": [
    "model_auto = auto_arima(df[1:])"
   ]
  },
  {
   "cell_type": "code",
   "execution_count": 11,
   "id": "89eefcfe",
   "metadata": {},
   "outputs": [
    {
     "data": {
      "text/plain": [
       "ARIMA(order=(1, 2, 2), scoring_args={}, suppress_warnings=True,\n",
       "      with_intercept=False)"
      ]
     },
     "execution_count": 11,
     "metadata": {},
     "output_type": "execute_result"
    }
   ],
   "source": [
    "model_auto"
   ]
  },
  {
   "cell_type": "code",
   "execution_count": 12,
   "id": "fdbcdb54",
   "metadata": {},
   "outputs": [
    {
     "data": {
      "text/html": [
       "<table class=\"simpletable\">\n",
       "<caption>SARIMAX Results</caption>\n",
       "<tr>\n",
       "  <th>Dep. Variable:</th>           <td>y</td>        <th>  No. Observations:  </th>    <td>558</td>   \n",
       "</tr>\n",
       "<tr>\n",
       "  <th>Model:</th>           <td>SARIMAX(1, 2, 2)</td> <th>  Log Likelihood     </th> <td>-6193.353</td>\n",
       "</tr>\n",
       "<tr>\n",
       "  <th>Date:</th>            <td>Wed, 04 Aug 2021</td> <th>  AIC                </th> <td>12394.707</td>\n",
       "</tr>\n",
       "<tr>\n",
       "  <th>Time:</th>                <td>16:05:03</td>     <th>  BIC                </th> <td>12411.990</td>\n",
       "</tr>\n",
       "<tr>\n",
       "  <th>Sample:</th>                  <td>0</td>        <th>  HQIC               </th> <td>12401.457</td>\n",
       "</tr>\n",
       "<tr>\n",
       "  <th></th>                      <td> - 558</td>      <th>                     </th>     <td> </td>    \n",
       "</tr>\n",
       "<tr>\n",
       "  <th>Covariance Type:</th>        <td>opg</td>       <th>                     </th>     <td> </td>    \n",
       "</tr>\n",
       "</table>\n",
       "<table class=\"simpletable\">\n",
       "<tr>\n",
       "     <td></td>       <th>coef</th>     <th>std err</th>      <th>z</th>      <th>P>|z|</th>  <th>[0.025</th>    <th>0.975]</th>  \n",
       "</tr>\n",
       "<tr>\n",
       "  <th>ar.L1</th>  <td>   -0.8694</td> <td>    0.038</td> <td>  -22.773</td> <td> 0.000</td> <td>   -0.944</td> <td>   -0.795</td>\n",
       "</tr>\n",
       "<tr>\n",
       "  <th>ma.L1</th>  <td>    0.3047</td> <td>    0.038</td> <td>    7.966</td> <td> 0.000</td> <td>    0.230</td> <td>    0.380</td>\n",
       "</tr>\n",
       "<tr>\n",
       "  <th>ma.L2</th>  <td>   -0.5865</td> <td>    0.022</td> <td>  -26.413</td> <td> 0.000</td> <td>   -0.630</td> <td>   -0.543</td>\n",
       "</tr>\n",
       "<tr>\n",
       "  <th>sigma2</th> <td>  2.75e+08</td> <td> 5.49e-11</td> <td> 5.01e+18</td> <td> 0.000</td> <td> 2.75e+08</td> <td> 2.75e+08</td>\n",
       "</tr>\n",
       "</table>\n",
       "<table class=\"simpletable\">\n",
       "<tr>\n",
       "  <th>Ljung-Box (L1) (Q):</th>     <td>0.56</td>  <th>  Jarque-Bera (JB):  </th> <td>1377.47</td>\n",
       "</tr>\n",
       "<tr>\n",
       "  <th>Prob(Q):</th>                <td>0.45</td>  <th>  Prob(JB):          </th>  <td>0.00</td>  \n",
       "</tr>\n",
       "<tr>\n",
       "  <th>Heteroskedasticity (H):</th> <td>19.08</td> <th>  Skew:              </th>  <td>-0.26</td> \n",
       "</tr>\n",
       "<tr>\n",
       "  <th>Prob(H) (two-sided):</th>    <td>0.00</td>  <th>  Kurtosis:          </th>  <td>10.69</td> \n",
       "</tr>\n",
       "</table><br/><br/>Warnings:<br/>[1] Covariance matrix calculated using the outer product of gradients (complex-step).<br/>[2] Covariance matrix is singular or near-singular, with condition number 1.08e+34. Standard errors may be unstable."
      ],
      "text/plain": [
       "<class 'statsmodels.iolib.summary.Summary'>\n",
       "\"\"\"\n",
       "                               SARIMAX Results                                \n",
       "==============================================================================\n",
       "Dep. Variable:                      y   No. Observations:                  558\n",
       "Model:               SARIMAX(1, 2, 2)   Log Likelihood               -6193.353\n",
       "Date:                Wed, 04 Aug 2021   AIC                          12394.707\n",
       "Time:                        16:05:03   BIC                          12411.990\n",
       "Sample:                             0   HQIC                         12401.457\n",
       "                                - 558                                         \n",
       "Covariance Type:                  opg                                         \n",
       "==============================================================================\n",
       "                 coef    std err          z      P>|z|      [0.025      0.975]\n",
       "------------------------------------------------------------------------------\n",
       "ar.L1         -0.8694      0.038    -22.773      0.000      -0.944      -0.795\n",
       "ma.L1          0.3047      0.038      7.966      0.000       0.230       0.380\n",
       "ma.L2         -0.5865      0.022    -26.413      0.000      -0.630      -0.543\n",
       "sigma2       2.75e+08   5.49e-11   5.01e+18      0.000    2.75e+08    2.75e+08\n",
       "===================================================================================\n",
       "Ljung-Box (L1) (Q):                   0.56   Jarque-Bera (JB):              1377.47\n",
       "Prob(Q):                              0.45   Prob(JB):                         0.00\n",
       "Heteroskedasticity (H):              19.08   Skew:                            -0.26\n",
       "Prob(H) (two-sided):                  0.00   Kurtosis:                        10.69\n",
       "===================================================================================\n",
       "\n",
       "Warnings:\n",
       "[1] Covariance matrix calculated using the outer product of gradients (complex-step).\n",
       "[2] Covariance matrix is singular or near-singular, with condition number 1.08e+34. Standard errors may be unstable.\n",
       "\"\"\""
      ]
     },
     "execution_count": 12,
     "metadata": {},
     "output_type": "execute_result"
    }
   ],
   "source": [
    "model_auto.summary()"
   ]
  },
  {
   "cell_type": "code",
   "execution_count": 13,
   "id": "f2987fe0",
   "metadata": {},
   "outputs": [],
   "source": [
    "train = df[:int(0.7*(len(df)))]\n",
    "valid = df[int(0.7*(len(df))):]"
   ]
  },
  {
   "cell_type": "code",
   "execution_count": 16,
   "id": "e2ba9786",
   "metadata": {},
   "outputs": [
    {
     "name": "stdout",
     "output_type": "stream",
     "text": [
      "Performing stepwise search to minimize aic\n",
      " ARIMA(2,2,2)(0,0,0)[0]             : AIC=8677.251, Time=0.17 sec\n",
      " ARIMA(0,2,0)(0,0,0)[0]             : AIC=8786.404, Time=0.01 sec\n",
      " ARIMA(1,2,0)(0,0,0)[0]             : AIC=8705.357, Time=0.01 sec\n",
      " ARIMA(0,2,1)(0,0,0)[0]             : AIC=8676.165, Time=0.02 sec\n",
      " ARIMA(1,2,1)(0,0,0)[0]             : AIC=8678.113, Time=0.04 sec\n",
      " ARIMA(0,2,2)(0,0,0)[0]             : AIC=8677.882, Time=0.04 sec\n",
      " ARIMA(1,2,2)(0,0,0)[0]             : AIC=8675.445, Time=0.09 sec\n",
      " ARIMA(1,2,3)(0,0,0)[0]             : AIC=8681.826, Time=0.13 sec\n",
      " ARIMA(0,2,3)(0,0,0)[0]             : AIC=8680.787, Time=0.06 sec\n",
      " ARIMA(2,2,1)(0,0,0)[0]             : AIC=8679.801, Time=0.10 sec\n",
      " ARIMA(2,2,3)(0,0,0)[0]             : AIC=inf, Time=0.60 sec\n",
      " ARIMA(1,2,2)(0,0,0)[0] intercept   : AIC=8677.108, Time=0.10 sec\n",
      "\n",
      "Best model:  ARIMA(1,2,2)(0,0,0)[0]          \n",
      "Total fit time: 1.400 seconds\n"
     ]
    },
    {
     "data": {
      "image/png": "[encoded data removed]",
      "text/plain": [
       "<Figure size 432x288 with 1 Axes>"
      ]
     },
     "metadata": {},
     "output_type": "display_data"
    }
   ],
   "source": [
    "model = auto_arima(train, trace=True, error_action='ignore', suppress_warnings=True)\n",
    "model.fit(train)\n",
    "\n",
    "forecast = model.predict(n_periods=len(valid))\n",
    "forecast = pd.DataFrame(forecast,index = valid.index,columns=['Prediction'])\n"
   ]
  },
  {
   "cell_type": "code",
   "execution_count": 37,
   "id": "4083c6a1",
   "metadata": {},
   "outputs": [],
   "source": [
    "import matplotlib.dates as mdates\n",
    "from matplotlib.dates import DateFormatter"
   ]
  },
  {
   "cell_type": "code",
   "execution_count": 41,
   "id": "e5ab2020",
   "metadata": {},
   "outputs": [
    {
     "data": {
      "image/png": "[encoded data removed]",
      "text/plain": [
       "<Figure size 864x576 with 1 Axes>"
      ]
     },
     "metadata": {},
     "output_type": "display_data"
    }
   ],
   "source": [
    "fig, ax = plt.subplots(figsize=(12, 8))\n",
    "ax.plot(train, label='Train')\n",
    "ax.plot(valid, label='Actual')\n",
    "ax.plot(forecast, label='Prediction')\n",
    "ax.set(xlabel=\"Date\", ylabel=\"Cases\",\n",
    "       title=\"Total US Cases\")\n",
    "\n",
    "date_form = DateFormatter('%Y-%m')\n",
    "ax.xaxis.set_major_formatter(date_form)\n",
    "\n",
    "ax.xaxis.set_major_locator(mdates.WeekdayLocator(interval=2))\n",
    "\n",
    "plt.show()"
   ]
  },
  {
   "cell_type": "code",
   "execution_count": null,
   "id": "13ef330d",
   "metadata": {},
   "outputs": [],
   "source": []
  }
 ],
 "metadata": {
  "kernelspec": {
   "display_name": "Python 3",
   "language": "python",
   "name": "python3"
  },
  "language_info": {
   "codemirror_mode": {
    "name": "ipython",
    "version": 3
   },
   "file_extension": ".py",
   "mimetype": "text/x-python",
   "name": "python",
   "nbconvert_exporter": "python",
   "pygments_lexer": "ipython3",
   "version": "3.8.8"
  }
 },
 "nbformat": 4,
 "nbformat_minor": 5
}
